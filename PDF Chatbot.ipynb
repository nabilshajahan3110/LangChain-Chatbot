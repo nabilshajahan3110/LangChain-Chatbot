{
 "cells": [
  {
   "cell_type": "markdown",
   "id": "13689226-4992-4594-b03e-4bbf9f269238",
   "metadata": {},
   "source": [
    "## Local Retrieval-Augmented Generation (RAG) chatbot"
   ]
  },
  {
   "cell_type": "markdown",
   "id": "c4279630-a4fc-4fd7-999f-a0adc79e6ac3",
   "metadata": {},
   "source": [
    "### 🔽 Step 1: Install Dependencies"
   ]
  },
  {
   "cell_type": "code",
   "execution_count": 1,
   "id": "c3e88603-633f-4e02-85a8-adbc1149649e",
   "metadata": {},
   "outputs": [
    {
     "name": "stdout",
     "output_type": "stream",
     "text": [
      "Collecting pymupdf\n",
      "  Downloading pymupdf-1.26.1-cp39-abi3-win_amd64.whl.metadata (3.4 kB)\n",
      "Requirement already satisfied: langchain in c:\\users\\nms31\\anaconda3\\lib\\site-packages (0.3.26)\n",
      "Collecting unstructured\n",
      "  Downloading unstructured-0.18.1-py3-none-any.whl.metadata (24 kB)\n",
      "Requirement already satisfied: langchain-core<1.0.0,>=0.3.66 in c:\\users\\nms31\\anaconda3\\lib\\site-packages (from langchain) (0.3.66)\n",
      "Requirement already satisfied: langchain-text-splitters<1.0.0,>=0.3.8 in c:\\users\\nms31\\anaconda3\\lib\\site-packages (from langchain) (0.3.8)\n",
      "Requirement already satisfied: langsmith>=0.1.17 in c:\\users\\nms31\\anaconda3\\lib\\site-packages (from langchain) (0.3.45)\n",
      "Requirement already satisfied: pydantic<3.0.0,>=2.7.4 in c:\\users\\nms31\\anaconda3\\lib\\site-packages (from langchain) (2.11.5)\n",
      "Requirement already satisfied: SQLAlchemy<3,>=1.4 in c:\\users\\nms31\\anaconda3\\lib\\site-packages (from langchain) (2.0.30)\n",
      "Requirement already satisfied: requests<3,>=2 in c:\\users\\nms31\\anaconda3\\lib\\site-packages (from langchain) (2.32.2)\n",
      "Requirement already satisfied: PyYAML>=5.3 in c:\\users\\nms31\\anaconda3\\lib\\site-packages (from langchain) (6.0.1)\n",
      "Requirement already satisfied: chardet in c:\\users\\nms31\\anaconda3\\lib\\site-packages (from unstructured) (4.0.0)\n",
      "Collecting filetype (from unstructured)\n",
      "  Downloading filetype-1.2.0-py2.py3-none-any.whl.metadata (6.5 kB)\n",
      "Collecting python-magic (from unstructured)\n",
      "  Downloading python_magic-0.4.27-py2.py3-none-any.whl.metadata (5.8 kB)\n",
      "Requirement already satisfied: lxml in c:\\users\\nms31\\anaconda3\\lib\\site-packages (from unstructured) (5.2.1)\n",
      "Requirement already satisfied: nltk in c:\\users\\nms31\\anaconda3\\lib\\site-packages (from unstructured) (3.8.1)\n",
      "Requirement already satisfied: beautifulsoup4 in c:\\users\\nms31\\anaconda3\\lib\\site-packages (from unstructured) (4.12.3)\n",
      "Collecting emoji (from unstructured)\n",
      "  Downloading emoji-2.14.1-py3-none-any.whl.metadata (5.7 kB)\n",
      "Requirement already satisfied: dataclasses-json in c:\\users\\nms31\\anaconda3\\lib\\site-packages (from unstructured) (0.6.7)\n",
      "Collecting python-iso639 (from unstructured)\n",
      "  Downloading python_iso639-2025.2.18-py3-none-any.whl.metadata (14 kB)\n",
      "Collecting langdetect (from unstructured)\n",
      "  Downloading langdetect-1.0.9.tar.gz (981 kB)\n",
      "     ---------------------------------------- 0.0/981.5 kB ? eta -:--:--\n",
      "     --- ----------------------------------- 92.2/981.5 kB 5.5 MB/s eta 0:00:01\n",
      "     ------------------- ------------------ 491.5/981.5 kB 6.2 MB/s eta 0:00:01\n",
      "     -------------------------------------- 981.5/981.5 kB 7.8 MB/s eta 0:00:00\n",
      "  Preparing metadata (setup.py): started\n",
      "  Preparing metadata (setup.py): finished with status 'done'\n",
      "Requirement already satisfied: numpy in c:\\users\\nms31\\anaconda3\\lib\\site-packages (from unstructured) (1.26.4)\n",
      "Collecting rapidfuzz (from unstructured)\n",
      "  Downloading rapidfuzz-3.13.0-cp312-cp312-win_amd64.whl.metadata (12 kB)\n",
      "Collecting backoff (from unstructured)\n",
      "  Downloading backoff-2.2.1-py3-none-any.whl.metadata (14 kB)\n",
      "Requirement already satisfied: typing-extensions in c:\\users\\nms31\\anaconda3\\lib\\site-packages (from unstructured) (4.14.0)\n",
      "Collecting unstructured-client (from unstructured)\n",
      "  Downloading unstructured_client-0.37.2-py3-none-any.whl.metadata (20 kB)\n",
      "Requirement already satisfied: wrapt in c:\\users\\nms31\\anaconda3\\lib\\site-packages (from unstructured) (1.14.1)\n",
      "Requirement already satisfied: tqdm in c:\\users\\nms31\\anaconda3\\lib\\site-packages (from unstructured) (4.66.4)\n",
      "Requirement already satisfied: psutil in c:\\users\\nms31\\anaconda3\\lib\\site-packages (from unstructured) (5.9.0)\n",
      "Collecting python-oxmsg (from unstructured)\n",
      "  Downloading python_oxmsg-0.0.2-py3-none-any.whl.metadata (5.0 kB)\n",
      "Collecting html5lib (from unstructured)\n",
      "  Downloading html5lib-1.1-py2.py3-none-any.whl.metadata (16 kB)\n",
      "Requirement already satisfied: tenacity!=8.4.0,<10.0.0,>=8.1.0 in c:\\users\\nms31\\anaconda3\\lib\\site-packages (from langchain-core<1.0.0,>=0.3.66->langchain) (8.2.2)\n",
      "Requirement already satisfied: jsonpatch<2.0,>=1.33 in c:\\users\\nms31\\anaconda3\\lib\\site-packages (from langchain-core<1.0.0,>=0.3.66->langchain) (1.33)\n",
      "Requirement already satisfied: packaging<25,>=23.2 in c:\\users\\nms31\\anaconda3\\lib\\site-packages (from langchain-core<1.0.0,>=0.3.66->langchain) (23.2)\n",
      "Requirement already satisfied: httpx<1,>=0.23.0 in c:\\users\\nms31\\anaconda3\\lib\\site-packages (from langsmith>=0.1.17->langchain) (0.27.0)\n",
      "Requirement already satisfied: orjson<4.0.0,>=3.9.14 in c:\\users\\nms31\\anaconda3\\lib\\site-packages (from langsmith>=0.1.17->langchain) (3.10.18)\n",
      "Requirement already satisfied: requests-toolbelt<2.0.0,>=1.0.0 in c:\\users\\nms31\\anaconda3\\lib\\site-packages (from langsmith>=0.1.17->langchain) (1.0.0)\n",
      "Requirement already satisfied: zstandard<0.24.0,>=0.23.0 in c:\\users\\nms31\\anaconda3\\lib\\site-packages (from langsmith>=0.1.17->langchain) (0.23.0)\n",
      "Requirement already satisfied: annotated-types>=0.6.0 in c:\\users\\nms31\\anaconda3\\lib\\site-packages (from pydantic<3.0.0,>=2.7.4->langchain) (0.6.0)\n",
      "Requirement already satisfied: pydantic-core==2.33.2 in c:\\users\\nms31\\anaconda3\\lib\\site-packages (from pydantic<3.0.0,>=2.7.4->langchain) (2.33.2)\n",
      "Requirement already satisfied: typing-inspection>=0.4.0 in c:\\users\\nms31\\anaconda3\\lib\\site-packages (from pydantic<3.0.0,>=2.7.4->langchain) (0.4.1)\n",
      "Requirement already satisfied: charset-normalizer<4,>=2 in c:\\users\\nms31\\anaconda3\\lib\\site-packages (from requests<3,>=2->langchain) (2.0.4)\n",
      "Requirement already satisfied: idna<4,>=2.5 in c:\\users\\nms31\\anaconda3\\lib\\site-packages (from requests<3,>=2->langchain) (3.7)\n",
      "Requirement already satisfied: urllib3<3,>=1.21.1 in c:\\users\\nms31\\anaconda3\\lib\\site-packages (from requests<3,>=2->langchain) (2.2.2)\n",
      "Requirement already satisfied: certifi>=2017.4.17 in c:\\users\\nms31\\anaconda3\\lib\\site-packages (from requests<3,>=2->langchain) (2025.4.26)\n",
      "Requirement already satisfied: greenlet!=0.4.17 in c:\\users\\nms31\\anaconda3\\lib\\site-packages (from SQLAlchemy<3,>=1.4->langchain) (3.0.1)\n",
      "Requirement already satisfied: soupsieve>1.2 in c:\\users\\nms31\\anaconda3\\lib\\site-packages (from beautifulsoup4->unstructured) (2.5)\n",
      "Requirement already satisfied: marshmallow<4.0.0,>=3.18.0 in c:\\users\\nms31\\anaconda3\\lib\\site-packages (from dataclasses-json->unstructured) (3.26.1)\n",
      "Requirement already satisfied: typing-inspect<1,>=0.4.0 in c:\\users\\nms31\\anaconda3\\lib\\site-packages (from dataclasses-json->unstructured) (0.9.0)\n",
      "Requirement already satisfied: six>=1.9 in c:\\users\\nms31\\anaconda3\\lib\\site-packages (from html5lib->unstructured) (1.16.0)\n",
      "Requirement already satisfied: webencodings in c:\\users\\nms31\\anaconda3\\lib\\site-packages (from html5lib->unstructured) (0.5.1)\n",
      "Requirement already satisfied: click in c:\\users\\nms31\\anaconda3\\lib\\site-packages (from nltk->unstructured) (8.1.7)\n",
      "Requirement already satisfied: joblib in c:\\users\\nms31\\anaconda3\\lib\\site-packages (from nltk->unstructured) (1.4.2)\n",
      "Requirement already satisfied: regex>=2021.8.3 in c:\\users\\nms31\\anaconda3\\lib\\site-packages (from nltk->unstructured) (2023.10.3)\n",
      "Collecting olefile (from python-oxmsg->unstructured)\n",
      "  Downloading olefile-0.47-py2.py3-none-any.whl.metadata (9.7 kB)\n",
      "Requirement already satisfied: colorama in c:\\users\\nms31\\anaconda3\\lib\\site-packages (from tqdm->unstructured) (0.4.6)\n",
      "Requirement already satisfied: aiofiles>=24.1.0 in c:\\users\\nms31\\anaconda3\\lib\\site-packages (from unstructured-client->unstructured) (24.1.0)\n",
      "Requirement already satisfied: cryptography>=3.1 in c:\\users\\nms31\\anaconda3\\lib\\site-packages (from unstructured-client->unstructured) (42.0.5)\n",
      "Requirement already satisfied: nest-asyncio>=1.6.0 in c:\\users\\nms31\\anaconda3\\lib\\site-packages (from unstructured-client->unstructured) (1.6.0)\n",
      "Collecting pypdf>=4.0 (from unstructured-client->unstructured)\n",
      "  Downloading pypdf-5.6.1-py3-none-any.whl.metadata (7.2 kB)\n",
      "Requirement already satisfied: cffi>=1.12 in c:\\users\\nms31\\anaconda3\\lib\\site-packages (from cryptography>=3.1->unstructured-client->unstructured) (1.16.0)\n",
      "Requirement already satisfied: anyio in c:\\users\\nms31\\anaconda3\\lib\\site-packages (from httpx<1,>=0.23.0->langsmith>=0.1.17->langchain) (4.2.0)\n",
      "Requirement already satisfied: httpcore==1.* in c:\\users\\nms31\\anaconda3\\lib\\site-packages (from httpx<1,>=0.23.0->langsmith>=0.1.17->langchain) (1.0.2)\n",
      "Requirement already satisfied: sniffio in c:\\users\\nms31\\anaconda3\\lib\\site-packages (from httpx<1,>=0.23.0->langsmith>=0.1.17->langchain) (1.3.0)\n",
      "Requirement already satisfied: h11<0.15,>=0.13 in c:\\users\\nms31\\anaconda3\\lib\\site-packages (from httpcore==1.*->httpx<1,>=0.23.0->langsmith>=0.1.17->langchain) (0.14.0)\n",
      "Requirement already satisfied: jsonpointer>=1.9 in c:\\users\\nms31\\anaconda3\\lib\\site-packages (from jsonpatch<2.0,>=1.33->langchain-core<1.0.0,>=0.3.66->langchain) (2.1)\n",
      "Requirement already satisfied: mypy-extensions>=0.3.0 in c:\\users\\nms31\\anaconda3\\lib\\site-packages (from typing-inspect<1,>=0.4.0->dataclasses-json->unstructured) (1.0.0)\n",
      "Requirement already satisfied: pycparser in c:\\users\\nms31\\anaconda3\\lib\\site-packages (from cffi>=1.12->cryptography>=3.1->unstructured-client->unstructured) (2.21)\n",
      "Downloading pymupdf-1.26.1-cp39-abi3-win_amd64.whl (18.5 MB)\n",
      "   ---------------------------------------- 0.0/18.5 MB ? eta -:--:--\n",
      "   -- ------------------------------------- 1.0/18.5 MB 20.7 MB/s eta 0:00:01\n",
      "   ---- ----------------------------------- 2.0/18.5 MB 20.9 MB/s eta 0:00:01\n",
      "   ---- ----------------------------------- 2.2/18.5 MB 22.9 MB/s eta 0:00:01\n",
      "   ------- -------------------------------- 3.3/18.5 MB 17.3 MB/s eta 0:00:01\n",
      "   -------- ------------------------------- 3.8/18.5 MB 16.2 MB/s eta 0:00:01\n",
      "   --------- ------------------------------ 4.2/18.5 MB 14.2 MB/s eta 0:00:02\n",
      "   --------- ------------------------------ 4.4/18.5 MB 14.1 MB/s eta 0:00:01\n",
      "   ---------- ----------------------------- 4.8/18.5 MB 12.2 MB/s eta 0:00:02\n",
      "   ---------- ----------------------------- 5.0/18.5 MB 11.9 MB/s eta 0:00:02\n",
      "   ----------- ---------------------------- 5.5/18.5 MB 11.6 MB/s eta 0:00:02\n",
      "   ----------- ---------------------------- 5.5/18.5 MB 11.6 MB/s eta 0:00:02\n",
      "   ------------ --------------------------- 5.7/18.5 MB 9.9 MB/s eta 0:00:02\n",
      "   ------------ --------------------------- 5.9/18.5 MB 9.5 MB/s eta 0:00:02\n",
      "   -------------- ------------------------- 6.5/18.5 MB 9.7 MB/s eta 0:00:02\n",
      "   -------------- ------------------------- 6.9/18.5 MB 9.8 MB/s eta 0:00:02\n",
      "   --------------- ------------------------ 7.2/18.5 MB 9.5 MB/s eta 0:00:02\n",
      "   --------------- ------------------------ 7.4/18.5 MB 9.1 MB/s eta 0:00:02\n",
      "   ---------------- ----------------------- 7.5/18.5 MB 8.9 MB/s eta 0:00:02\n",
      "   ---------------- ----------------------- 7.7/18.5 MB 8.6 MB/s eta 0:00:02\n",
      "   ---------------- ----------------------- 7.8/18.5 MB 8.3 MB/s eta 0:00:02\n",
      "   ----------------- ---------------------- 7.9/18.5 MB 8.0 MB/s eta 0:00:02\n",
      "   ----------------- ---------------------- 8.0/18.5 MB 7.8 MB/s eta 0:00:02\n",
      "   ----------------- ---------------------- 8.0/18.5 MB 7.8 MB/s eta 0:00:02\n",
      "   ----------------- ---------------------- 8.1/18.5 MB 7.2 MB/s eta 0:00:02\n",
      "   ----------------- ---------------------- 8.2/18.5 MB 7.0 MB/s eta 0:00:02\n",
      "   ----------------- ---------------------- 8.3/18.5 MB 6.8 MB/s eta 0:00:02\n",
      "   ------------------ --------------------- 8.3/18.5 MB 6.6 MB/s eta 0:00:02\n",
      "   ------------------ --------------------- 8.4/18.5 MB 6.4 MB/s eta 0:00:02\n",
      "   ------------------ --------------------- 8.5/18.5 MB 6.2 MB/s eta 0:00:02\n",
      "   ------------------ --------------------- 8.6/18.5 MB 6.1 MB/s eta 0:00:02\n",
      "   ------------------ --------------------- 8.7/18.5 MB 5.9 MB/s eta 0:00:02\n",
      "   ------------------ --------------------- 8.8/18.5 MB 5.8 MB/s eta 0:00:02\n",
      "   ------------------- -------------------- 8.9/18.5 MB 5.7 MB/s eta 0:00:02\n",
      "   ------------------- -------------------- 9.0/18.5 MB 5.6 MB/s eta 0:00:02\n",
      "   ------------------- -------------------- 9.1/18.5 MB 5.5 MB/s eta 0:00:02\n",
      "   ------------------- -------------------- 9.2/18.5 MB 5.4 MB/s eta 0:00:02\n",
      "   -------------------- ------------------- 9.3/18.5 MB 5.3 MB/s eta 0:00:02\n",
      "   -------------------- ------------------- 9.4/18.5 MB 5.2 MB/s eta 0:00:02\n",
      "   -------------------- ------------------- 9.5/18.5 MB 5.2 MB/s eta 0:00:02\n",
      "   -------------------- ------------------- 9.6/18.5 MB 5.1 MB/s eta 0:00:02\n",
      "   --------------------- ------------------ 9.7/18.5 MB 5.1 MB/s eta 0:00:02\n",
      "   --------------------- ------------------ 9.9/18.5 MB 5.0 MB/s eta 0:00:02\n",
      "   --------------------- ------------------ 10.0/18.5 MB 5.0 MB/s eta 0:00:02\n",
      "   --------------------- ------------------ 10.1/18.5 MB 4.9 MB/s eta 0:00:02\n",
      "   ---------------------- ----------------- 10.3/18.5 MB 4.8 MB/s eta 0:00:02\n",
      "   ---------------------- ----------------- 10.4/18.5 MB 4.7 MB/s eta 0:00:02\n",
      "   ---------------------- ----------------- 10.6/18.5 MB 4.6 MB/s eta 0:00:02\n",
      "   ----------------------- ---------------- 10.7/18.5 MB 4.6 MB/s eta 0:00:02\n",
      "   ----------------------- ---------------- 10.9/18.5 MB 4.5 MB/s eta 0:00:02\n",
      "   ----------------------- ---------------- 11.0/18.5 MB 4.4 MB/s eta 0:00:02\n",
      "   ------------------------ --------------- 11.2/18.5 MB 4.3 MB/s eta 0:00:02\n",
      "   ------------------------ --------------- 11.4/18.5 MB 4.3 MB/s eta 0:00:02\n",
      "   ------------------------ --------------- 11.5/18.5 MB 4.2 MB/s eta 0:00:02\n",
      "   ------------------------- -------------- 11.7/18.5 MB 4.1 MB/s eta 0:00:02\n",
      "   ------------------------- -------------- 11.9/18.5 MB 4.1 MB/s eta 0:00:02\n",
      "   -------------------------- ------------- 12.1/18.5 MB 4.0 MB/s eta 0:00:02\n",
      "   -------------------------- ------------- 12.3/18.5 MB 3.9 MB/s eta 0:00:02\n",
      "   -------------------------- ------------- 12.5/18.5 MB 3.9 MB/s eta 0:00:02\n",
      "   --------------------------- ------------ 12.6/18.5 MB 3.9 MB/s eta 0:00:02\n",
      "   --------------------------- ------------ 12.8/18.5 MB 3.8 MB/s eta 0:00:02\n",
      "   ---------------------------- ----------- 13.0/18.5 MB 3.8 MB/s eta 0:00:02\n",
      "   ---------------------------- ----------- 13.2/18.5 MB 3.7 MB/s eta 0:00:02\n",
      "   ----------------------------- ---------- 13.4/18.5 MB 3.7 MB/s eta 0:00:02\n",
      "   ----------------------------- ---------- 13.6/18.5 MB 3.6 MB/s eta 0:00:02\n",
      "   ----------------------------- ---------- 13.9/18.5 MB 3.6 MB/s eta 0:00:02\n",
      "   ------------------------------ --------- 14.1/18.5 MB 3.6 MB/s eta 0:00:02\n",
      "   ------------------------------ --------- 14.3/18.5 MB 3.5 MB/s eta 0:00:02\n",
      "   ------------------------------- -------- 14.5/18.5 MB 3.5 MB/s eta 0:00:02\n",
      "   ------------------------------- -------- 14.8/18.5 MB 3.5 MB/s eta 0:00:02\n",
      "   -------------------------------- ------- 15.0/18.5 MB 3.5 MB/s eta 0:00:02\n",
      "   -------------------------------- ------- 15.2/18.5 MB 3.5 MB/s eta 0:00:01\n",
      "   --------------------------------- ------ 15.4/18.5 MB 3.5 MB/s eta 0:00:01\n",
      "   --------------------------------- ------ 15.7/18.5 MB 3.4 MB/s eta 0:00:01\n",
      "   ---------------------------------- ----- 15.9/18.5 MB 3.5 MB/s eta 0:00:01\n",
      "   ---------------------------------- ----- 16.1/18.5 MB 3.5 MB/s eta 0:00:01\n",
      "   ----------------------------------- ---- 16.4/18.5 MB 3.5 MB/s eta 0:00:01\n",
      "   ----------------------------------- ---- 16.7/18.5 MB 3.4 MB/s eta 0:00:01\n",
      "   ------------------------------------ --- 16.9/18.5 MB 3.4 MB/s eta 0:00:01\n",
      "   ------------------------------------- -- 17.2/18.5 MB 3.4 MB/s eta 0:00:01\n",
      "   ------------------------------------- -- 17.4/18.5 MB 3.4 MB/s eta 0:00:01\n",
      "   -------------------------------------- - 17.7/18.5 MB 3.4 MB/s eta 0:00:01\n",
      "   -------------------------------------- - 17.8/18.5 MB 3.4 MB/s eta 0:00:01\n",
      "   -------------------------------------- - 18.0/18.5 MB 3.4 MB/s eta 0:00:01\n",
      "   ---------------------------------------  18.2/18.5 MB 3.5 MB/s eta 0:00:01\n",
      "   ---------------------------------------  18.5/18.5 MB 3.7 MB/s eta 0:00:01\n",
      "   ---------------------------------------  18.5/18.5 MB 3.7 MB/s eta 0:00:01\n",
      "   ---------------------------------------- 18.5/18.5 MB 3.7 MB/s eta 0:00:00\n",
      "Downloading unstructured-0.18.1-py3-none-any.whl (1.8 MB)\n",
      "   ---------------------------------------- 0.0/1.8 MB ? eta -:--:--\n",
      "   ----- ---------------------------------- 0.2/1.8 MB 7.6 MB/s eta 0:00:01\n",
      "   ----------- ---------------------------- 0.5/1.8 MB 6.6 MB/s eta 0:00:01\n",
      "   ------------------ --------------------- 0.8/1.8 MB 7.2 MB/s eta 0:00:01\n",
      "   ------------------------ --------------- 1.1/1.8 MB 6.2 MB/s eta 0:00:01\n",
      "   ------------------------------ --------- 1.4/1.8 MB 6.1 MB/s eta 0:00:01\n",
      "   ------------------------------------- -- 1.6/1.8 MB 6.2 MB/s eta 0:00:01\n",
      "   ---------------------------------------- 1.8/1.8 MB 5.9 MB/s eta 0:00:00\n",
      "Downloading backoff-2.2.1-py3-none-any.whl (15 kB)\n",
      "Downloading emoji-2.14.1-py3-none-any.whl (590 kB)\n",
      "   ---------------------------------------- 0.0/590.6 kB ? eta -:--:--\n",
      "   -------------------- ------------------- 307.2/590.6 kB 9.6 MB/s eta 0:00:01\n",
      "   ---------------------------------------- 590.6/590.6 kB 7.4 MB/s eta 0:00:00\n",
      "Downloading filetype-1.2.0-py2.py3-none-any.whl (19 kB)\n",
      "Downloading html5lib-1.1-py2.py3-none-any.whl (112 kB)\n",
      "   ---------------------------------------- 0.0/112.2 kB ? eta -:--:--\n",
      "   ---------------------------------------- 112.2/112.2 kB 6.8 MB/s eta 0:00:00\n",
      "Downloading python_iso639-2025.2.18-py3-none-any.whl (167 kB)\n",
      "   ---------------------------------------- 0.0/167.6 kB ? eta -:--:--\n",
      "   ---------------------------------------- 167.6/167.6 kB 5.1 MB/s eta 0:00:00\n",
      "Downloading python_magic-0.4.27-py2.py3-none-any.whl (13 kB)\n",
      "Downloading python_oxmsg-0.0.2-py3-none-any.whl (31 kB)\n",
      "Downloading rapidfuzz-3.13.0-cp312-cp312-win_amd64.whl (1.6 MB)\n",
      "   ---------------------------------------- 0.0/1.6 MB ? eta -:--:--\n",
      "   ------ --------------------------------- 0.3/1.6 MB 5.3 MB/s eta 0:00:01\n",
      "   ------------- -------------------------- 0.6/1.6 MB 5.8 MB/s eta 0:00:01\n",
      "   --------------------- ------------------ 0.9/1.6 MB 6.2 MB/s eta 0:00:01\n",
      "   ---------------------------- ----------- 1.2/1.6 MB 6.1 MB/s eta 0:00:01\n",
      "   ------------------------------------ --- 1.5/1.6 MB 6.3 MB/s eta 0:00:01\n",
      "   ---------------------------------------- 1.6/1.6 MB 6.1 MB/s eta 0:00:00\n",
      "Downloading unstructured_client-0.37.2-py3-none-any.whl (210 kB)\n",
      "   ---------------------------------------- 0.0/210.7 kB ? eta -:--:--\n",
      "   ---------------------------------------- 210.7/210.7 kB 6.3 MB/s eta 0:00:00\n",
      "Downloading pypdf-5.6.1-py3-none-any.whl (304 kB)\n",
      "   ---------------------------------------- 0.0/304.6 kB ? eta -:--:--\n",
      "   -------------------------------------- - 297.0/304.6 kB 9.2 MB/s eta 0:00:01\n",
      "   ---------------------------------------- 304.6/304.6 kB 6.3 MB/s eta 0:00:00\n",
      "Downloading olefile-0.47-py2.py3-none-any.whl (114 kB)\n",
      "   ---------------------------------------- 0.0/114.6 kB ? eta -:--:--\n",
      "   ---------------------------------------- 114.6/114.6 kB 6.5 MB/s eta 0:00:00\n",
      "Building wheels for collected packages: langdetect\n",
      "  Building wheel for langdetect (setup.py): started\n",
      "  Building wheel for langdetect (setup.py): finished with status 'done'\n",
      "  Created wheel for langdetect: filename=langdetect-1.0.9-py3-none-any.whl size=993255 sha256=0b06ac3240ad79fafedc2818d1a07c67ce32ff136221e6f35d8968b9c3bf9908\n",
      "  Stored in directory: c:\\users\\nms31\\appdata\\local\\pip\\cache\\wheels\\c1\\67\\88\\e844b5b022812e15a52e4eaa38a1e709e99f06f6639d7e3ba7\n",
      "Successfully built langdetect\n",
      "Installing collected packages: filetype, rapidfuzz, python-magic, python-iso639, pypdf, pymupdf, olefile, langdetect, html5lib, emoji, backoff, python-oxmsg, unstructured-client, unstructured\n",
      "Successfully installed backoff-2.2.1 emoji-2.14.1 filetype-1.2.0 html5lib-1.1 langdetect-1.0.9 olefile-0.47 pymupdf-1.26.1 pypdf-5.6.1 python-iso639-2025.2.18 python-magic-0.4.27 python-oxmsg-0.0.2 rapidfuzz-3.13.0 unstructured-0.18.1 unstructured-client-0.37.2\n",
      "Note: you may need to restart the kernel to use updated packages.\n"
     ]
    }
   ],
   "source": [
    "pip install pymupdf langchain unstructured"
   ]
  },
  {
   "cell_type": "code",
   "execution_count": 7,
   "id": "070aa66a-1f8c-4d80-939e-c6c7609a5c18",
   "metadata": {},
   "outputs": [
    {
     "name": "stdout",
     "output_type": "stream",
     "text": [
      "Collecting sentence-transformers\n",
      "  Downloading sentence_transformers-4.1.0-py3-none-any.whl.metadata (13 kB)\n",
      "Requirement already satisfied: transformers<5.0.0,>=4.41.0 in c:\\users\\nms31\\anaconda3\\lib\\site-packages (from sentence-transformers) (4.52.4)\n",
      "Requirement already satisfied: tqdm in c:\\users\\nms31\\anaconda3\\lib\\site-packages (from sentence-transformers) (4.66.4)\n",
      "Requirement already satisfied: torch>=1.11.0 in c:\\users\\nms31\\anaconda3\\lib\\site-packages (from sentence-transformers) (2.7.1)\n",
      "Requirement already satisfied: scikit-learn in c:\\users\\nms31\\anaconda3\\lib\\site-packages (from sentence-transformers) (1.4.2)\n",
      "Requirement already satisfied: scipy in c:\\users\\nms31\\anaconda3\\lib\\site-packages (from sentence-transformers) (1.13.1)\n",
      "Requirement already satisfied: huggingface-hub>=0.20.0 in c:\\users\\nms31\\anaconda3\\lib\\site-packages (from sentence-transformers) (0.33.0)\n",
      "Requirement already satisfied: Pillow in c:\\users\\nms31\\anaconda3\\lib\\site-packages (from sentence-transformers) (10.3.0)\n",
      "Requirement already satisfied: typing_extensions>=4.5.0 in c:\\users\\nms31\\anaconda3\\lib\\site-packages (from sentence-transformers) (4.14.0)\n",
      "Requirement already satisfied: filelock in c:\\users\\nms31\\anaconda3\\lib\\site-packages (from huggingface-hub>=0.20.0->sentence-transformers) (3.13.1)\n",
      "Requirement already satisfied: fsspec>=2023.5.0 in c:\\users\\nms31\\anaconda3\\lib\\site-packages (from huggingface-hub>=0.20.0->sentence-transformers) (2024.3.1)\n",
      "Requirement already satisfied: packaging>=20.9 in c:\\users\\nms31\\anaconda3\\lib\\site-packages (from huggingface-hub>=0.20.0->sentence-transformers) (23.2)\n",
      "Requirement already satisfied: pyyaml>=5.1 in c:\\users\\nms31\\anaconda3\\lib\\site-packages (from huggingface-hub>=0.20.0->sentence-transformers) (6.0.1)\n",
      "Requirement already satisfied: requests in c:\\users\\nms31\\anaconda3\\lib\\site-packages (from huggingface-hub>=0.20.0->sentence-transformers) (2.32.2)\n",
      "Requirement already satisfied: sympy>=1.13.3 in c:\\users\\nms31\\anaconda3\\lib\\site-packages (from torch>=1.11.0->sentence-transformers) (1.14.0)\n",
      "Requirement already satisfied: networkx in c:\\users\\nms31\\anaconda3\\lib\\site-packages (from torch>=1.11.0->sentence-transformers) (3.2.1)\n",
      "Requirement already satisfied: jinja2 in c:\\users\\nms31\\anaconda3\\lib\\site-packages (from torch>=1.11.0->sentence-transformers) (3.1.4)\n",
      "Requirement already satisfied: setuptools in c:\\users\\nms31\\anaconda3\\lib\\site-packages (from torch>=1.11.0->sentence-transformers) (69.5.1)\n",
      "Requirement already satisfied: colorama in c:\\users\\nms31\\anaconda3\\lib\\site-packages (from tqdm->sentence-transformers) (0.4.6)\n",
      "Requirement already satisfied: numpy>=1.17 in c:\\users\\nms31\\anaconda3\\lib\\site-packages (from transformers<5.0.0,>=4.41.0->sentence-transformers) (1.26.4)\n",
      "Requirement already satisfied: regex!=2019.12.17 in c:\\users\\nms31\\anaconda3\\lib\\site-packages (from transformers<5.0.0,>=4.41.0->sentence-transformers) (2023.10.3)\n",
      "Requirement already satisfied: tokenizers<0.22,>=0.21 in c:\\users\\nms31\\anaconda3\\lib\\site-packages (from transformers<5.0.0,>=4.41.0->sentence-transformers) (0.21.1)\n",
      "Requirement already satisfied: safetensors>=0.4.3 in c:\\users\\nms31\\anaconda3\\lib\\site-packages (from transformers<5.0.0,>=4.41.0->sentence-transformers) (0.5.3)\n",
      "Requirement already satisfied: joblib>=1.2.0 in c:\\users\\nms31\\anaconda3\\lib\\site-packages (from scikit-learn->sentence-transformers) (1.4.2)\n",
      "Requirement already satisfied: threadpoolctl>=2.0.0 in c:\\users\\nms31\\anaconda3\\lib\\site-packages (from scikit-learn->sentence-transformers) (2.2.0)\n",
      "Requirement already satisfied: mpmath<1.4,>=1.1.0 in c:\\users\\nms31\\anaconda3\\lib\\site-packages (from sympy>=1.13.3->torch>=1.11.0->sentence-transformers) (1.3.0)\n",
      "Requirement already satisfied: MarkupSafe>=2.0 in c:\\users\\nms31\\anaconda3\\lib\\site-packages (from jinja2->torch>=1.11.0->sentence-transformers) (2.1.3)\n",
      "Requirement already satisfied: charset-normalizer<4,>=2 in c:\\users\\nms31\\anaconda3\\lib\\site-packages (from requests->huggingface-hub>=0.20.0->sentence-transformers) (2.0.4)\n",
      "Requirement already satisfied: idna<4,>=2.5 in c:\\users\\nms31\\anaconda3\\lib\\site-packages (from requests->huggingface-hub>=0.20.0->sentence-transformers) (3.7)\n",
      "Requirement already satisfied: urllib3<3,>=1.21.1 in c:\\users\\nms31\\anaconda3\\lib\\site-packages (from requests->huggingface-hub>=0.20.0->sentence-transformers) (2.2.2)\n",
      "Requirement already satisfied: certifi>=2017.4.17 in c:\\users\\nms31\\anaconda3\\lib\\site-packages (from requests->huggingface-hub>=0.20.0->sentence-transformers) (2025.4.26)\n",
      "Downloading sentence_transformers-4.1.0-py3-none-any.whl (345 kB)\n",
      "   ---------------------------------------- 0.0/345.7 kB ? eta -:--:--\n",
      "   -- ------------------------------------ 20.5/345.7 kB 682.7 kB/s eta 0:00:01\n",
      "   -------------------- ------------------- 174.1/345.7 kB 2.6 MB/s eta 0:00:01\n",
      "   ---------------------------------------- 345.7/345.7 kB 3.6 MB/s eta 0:00:00\n",
      "Installing collected packages: sentence-transformers\n",
      "Successfully installed sentence-transformers-4.1.0\n",
      "Note: you may need to restart the kernel to use updated packages.\n"
     ]
    }
   ],
   "source": [
    "pip install sentence-transformers"
   ]
  },
  {
   "cell_type": "code",
   "execution_count": 11,
   "id": "ce8c136b-7b3f-4c0a-88d2-81a5a319ff2e",
   "metadata": {},
   "outputs": [
    {
     "name": "stdout",
     "output_type": "stream",
     "text": [
      "Collecting faiss-cpu\n",
      "  Downloading faiss_cpu-1.11.0-cp312-cp312-win_amd64.whl.metadata (5.0 kB)\n",
      "Requirement already satisfied: numpy<3.0,>=1.25.0 in c:\\users\\nms31\\anaconda3\\lib\\site-packages (from faiss-cpu) (1.26.4)\n",
      "Requirement already satisfied: packaging in c:\\users\\nms31\\anaconda3\\lib\\site-packages (from faiss-cpu) (23.2)\n",
      "Downloading faiss_cpu-1.11.0-cp312-cp312-win_amd64.whl (15.0 MB)\n",
      "   ---------------------------------------- 0.0/15.0 MB ? eta -:--:--\n",
      "   ---------------------------------------- 0.0/15.0 MB ? eta -:--:--\n",
      "   ---------------------------------------- 0.1/15.0 MB 1.6 MB/s eta 0:00:10\n",
      "   ---------------------------------------- 0.2/15.0 MB 2.2 MB/s eta 0:00:07\n",
      "   - -------------------------------------- 0.5/15.0 MB 3.5 MB/s eta 0:00:05\n",
      "   -- ------------------------------------- 1.1/15.0 MB 5.6 MB/s eta 0:00:03\n",
      "   ---- ----------------------------------- 1.5/15.0 MB 6.4 MB/s eta 0:00:03\n",
      "   ---- ----------------------------------- 1.7/15.0 MB 6.1 MB/s eta 0:00:03\n",
      "   ----- ---------------------------------- 1.9/15.0 MB 5.8 MB/s eta 0:00:03\n",
      "   ----- ---------------------------------- 2.2/15.0 MB 5.7 MB/s eta 0:00:03\n",
      "   ------ --------------------------------- 2.5/15.0 MB 5.8 MB/s eta 0:00:03\n",
      "   ------- -------------------------------- 2.8/15.0 MB 6.0 MB/s eta 0:00:03\n",
      "   --------- ------------------------------ 3.5/15.0 MB 6.7 MB/s eta 0:00:02\n",
      "   ---------- ----------------------------- 4.1/15.0 MB 7.3 MB/s eta 0:00:02\n",
      "   ------------ --------------------------- 4.8/15.0 MB 7.8 MB/s eta 0:00:02\n",
      "   ------------ --------------------------- 4.8/15.0 MB 7.6 MB/s eta 0:00:02\n",
      "   --------------- ------------------------ 5.8/15.0 MB 8.3 MB/s eta 0:00:02\n",
      "   ---------------- ----------------------- 6.1/15.0 MB 8.2 MB/s eta 0:00:02\n",
      "   ------------------ --------------------- 6.8/15.0 MB 8.4 MB/s eta 0:00:01\n",
      "   ------------------ --------------------- 7.0/15.0 MB 8.3 MB/s eta 0:00:01\n",
      "   ------------------- -------------------- 7.3/15.0 MB 8.3 MB/s eta 0:00:01\n",
      "   -------------------- ------------------- 7.8/15.0 MB 8.1 MB/s eta 0:00:01\n",
      "   --------------------- ------------------ 8.1/15.0 MB 8.2 MB/s eta 0:00:01\n",
      "   ---------------------- ----------------- 8.3/15.0 MB 8.2 MB/s eta 0:00:01\n",
      "   ---------------------- ----------------- 8.3/15.0 MB 8.2 MB/s eta 0:00:01\n",
      "   ---------------------- ----------------- 8.4/15.0 MB 7.5 MB/s eta 0:00:01\n",
      "   ----------------------- ---------------- 8.7/15.0 MB 7.3 MB/s eta 0:00:01\n",
      "   ----------------------- ---------------- 8.9/15.0 MB 7.2 MB/s eta 0:00:01\n",
      "   ------------------------ --------------- 9.1/15.0 MB 7.1 MB/s eta 0:00:01\n",
      "   ------------------------ --------------- 9.2/15.0 MB 6.9 MB/s eta 0:00:01\n",
      "   ------------------------- -------------- 9.4/15.0 MB 6.9 MB/s eta 0:00:01\n",
      "   ------------------------- -------------- 9.6/15.0 MB 6.8 MB/s eta 0:00:01\n",
      "   -------------------------- ------------- 9.9/15.0 MB 6.7 MB/s eta 0:00:01\n",
      "   -------------------------- ------------- 10.0/15.0 MB 6.7 MB/s eta 0:00:01\n",
      "   --------------------------- ------------ 10.2/15.0 MB 6.6 MB/s eta 0:00:01\n",
      "   --------------------------- ------------ 10.4/15.0 MB 6.8 MB/s eta 0:00:01\n",
      "   ---------------------------- ----------- 10.6/15.0 MB 6.8 MB/s eta 0:00:01\n",
      "   ---------------------------- ----------- 10.8/15.0 MB 6.7 MB/s eta 0:00:01\n",
      "   ----------------------------- ---------- 11.0/15.0 MB 6.6 MB/s eta 0:00:01\n",
      "   ----------------------------- ---------- 11.2/15.0 MB 6.5 MB/s eta 0:00:01\n",
      "   ------------------------------ --------- 11.4/15.0 MB 6.4 MB/s eta 0:00:01\n",
      "   ------------------------------ --------- 11.6/15.0 MB 6.2 MB/s eta 0:00:01\n",
      "   ------------------------------- -------- 11.8/15.0 MB 6.2 MB/s eta 0:00:01\n",
      "   -------------------------------- ------- 12.0/15.0 MB 6.4 MB/s eta 0:00:01\n",
      "   -------------------------------- ------- 12.2/15.0 MB 6.3 MB/s eta 0:00:01\n",
      "   --------------------------------- ------ 12.4/15.0 MB 6.4 MB/s eta 0:00:01\n",
      "   --------------------------------- ------ 12.6/15.0 MB 6.2 MB/s eta 0:00:01\n",
      "   ---------------------------------- ----- 12.9/15.0 MB 6.2 MB/s eta 0:00:01\n",
      "   ---------------------------------- ----- 13.1/15.0 MB 6.2 MB/s eta 0:00:01\n",
      "   ----------------------------------- ---- 13.3/15.0 MB 6.1 MB/s eta 0:00:01\n",
      "   ------------------------------------ --- 13.5/15.0 MB 6.1 MB/s eta 0:00:01\n",
      "   ------------------------------------ --- 13.7/15.0 MB 5.9 MB/s eta 0:00:01\n",
      "   ------------------------------------- -- 13.9/15.0 MB 5.8 MB/s eta 0:00:01\n",
      "   ------------------------------------- -- 14.2/15.0 MB 5.7 MB/s eta 0:00:01\n",
      "   -------------------------------------- - 14.4/15.0 MB 5.6 MB/s eta 0:00:01\n",
      "   ---------------------------------------  14.7/15.0 MB 5.6 MB/s eta 0:00:01\n",
      "   ---------------------------------------  14.9/15.0 MB 5.5 MB/s eta 0:00:01\n",
      "   ---------------------------------------- 15.0/15.0 MB 5.4 MB/s eta 0:00:00\n",
      "Installing collected packages: faiss-cpu\n",
      "Successfully installed faiss-cpu-1.11.0\n",
      "Note: you may need to restart the kernel to use updated packages.\n"
     ]
    }
   ],
   "source": [
    "pip install faiss-cpu"
   ]
  },
  {
   "cell_type": "markdown",
   "id": "207f380b-e077-4a60-959d-8dc7406b48c1",
   "metadata": {},
   "source": [
    "### 📄 Step 2: Use PyMuPDFLoader to Load PDFs"
   ]
  },
  {
   "cell_type": "code",
   "execution_count": 3,
   "id": "6a548114-9adc-4f37-a3fb-87825a28476e",
   "metadata": {},
   "outputs": [],
   "source": [
    "from langchain.document_loaders import PyMuPDFLoader\n",
    "from langchain.text_splitter import RecursiveCharacterTextSplitter\n",
    "\n",
    "# Load the PDF file\n",
    "loader = PyMuPDFLoader(\"Statistics_Notes_and_Practice.pdf\")  # Replace with your actual PDF path\n",
    "documents = loader.load()\n",
    "\n",
    "# Split the document into chunks\n",
    "splitter = RecursiveCharacterTextSplitter(chunk_size=500, chunk_overlap=100)\n",
    "docs = splitter.split_documents(documents)"
   ]
  },
  {
   "cell_type": "markdown",
   "id": "2febc9c3-14c2-4574-834c-36bb94a7bb69",
   "metadata": {},
   "source": [
    "### 🧠 Step 3: Create Embeddings and FAISS Vector Store"
   ]
  },
  {
   "cell_type": "code",
   "execution_count": 13,
   "id": "579e10d9-b174-4827-bd75-8e890633f5ea",
   "metadata": {},
   "outputs": [],
   "source": [
    "from langchain.embeddings import HuggingFaceEmbeddings\n",
    "from langchain.vectorstores import FAISS\n",
    "\n",
    "# Load sentence-transformers embedding model\n",
    "embedding_model = HuggingFaceEmbeddings(model_name=\"all-MiniLM-L6-v2\")\n",
    "\n",
    "# Create FAISS index\n",
    "db = FAISS.from_documents(docs, embedding_model)\n",
    "\n",
    "# Save for Streamlit use later\n",
    "db.save_local(\"faiss_index\")"
   ]
  },
  {
   "cell_type": "code",
   "execution_count": null,
   "id": "e2c6985e-f1bd-49b1-9bfb-31fd54079a81",
   "metadata": {},
   "outputs": [],
   "source": []
  },
  {
   "cell_type": "markdown",
   "id": "1cb374ad-8864-4e96-8d1f-4fc3312a01fa",
   "metadata": {},
   "source": [
    "### 🔁 Step 4: Create Retriever + Prompt Template"
   ]
  },
  {
   "cell_type": "code",
   "execution_count": 15,
   "id": "39391340-4e4e-46f9-8c00-8aea9d9131a5",
   "metadata": {},
   "outputs": [
    {
     "data": {
      "application/vnd.jupyter.widget-view+json": {
       "model_id": "53d6895e79654b4e9712af1c919f4174",
       "version_major": 2,
       "version_minor": 0
      },
      "text/plain": [
       "config.json:   0%|          | 0.00/662 [00:00<?, ?B/s]"
      ]
     },
     "metadata": {},
     "output_type": "display_data"
    },
    {
     "name": "stderr",
     "output_type": "stream",
     "text": [
      "C:\\Users\\nms31\\anaconda3\\Lib\\site-packages\\huggingface_hub\\file_download.py:143: UserWarning: `huggingface_hub` cache-system uses symlinks by default to efficiently store duplicated files but your machine does not support them in C:\\Users\\nms31\\.cache\\huggingface\\hub\\models--google--flan-t5-large. Caching files will still work but in a degraded version that might require more space on your disk. This warning can be disabled by setting the `HF_HUB_DISABLE_SYMLINKS_WARNING` environment variable. For more details, see https://huggingface.co/docs/huggingface_hub/how-to-cache#limitations.\n",
      "To support symlinks on Windows, you either need to activate Developer Mode or to run Python as an administrator. In order to activate developer mode, see this article: https://docs.microsoft.com/en-us/windows/apps/get-started/enable-your-device-for-development\n",
      "  warnings.warn(message)\n",
      "Xet Storage is enabled for this repo, but the 'hf_xet' package is not installed. Falling back to regular HTTP download. For better performance, install the package with: `pip install huggingface_hub[hf_xet]` or `pip install hf_xet`\n"
     ]
    },
    {
     "data": {
      "application/vnd.jupyter.widget-view+json": {
       "model_id": "6417b94761534550a0e6515c395cadd5",
       "version_major": 2,
       "version_minor": 0
      },
      "text/plain": [
       "model.safetensors:   0%|          | 0.00/3.13G [00:00<?, ?B/s]"
      ]
     },
     "metadata": {},
     "output_type": "display_data"
    },
    {
     "name": "stderr",
     "output_type": "stream",
     "text": [
      "Device set to use cpu\n",
      "C:\\Users\\nms31\\AppData\\Local\\Temp\\ipykernel_20588\\3397492764.py:14: LangChainDeprecationWarning: The class `HuggingFacePipeline` was deprecated in LangChain 0.0.37 and will be removed in 1.0. An updated version of the class exists in the :class:`~langchain-huggingface package and should be used instead. To use it run `pip install -U :class:`~langchain-huggingface` and import as `from :class:`~langchain_huggingface import HuggingFacePipeline``.\n",
      "  llm = HuggingFacePipeline(pipeline=pipe)\n"
     ]
    }
   ],
   "source": [
    "retriever = db.as_retriever()\n",
    "\n",
    "from langchain.prompts import PromptTemplate\n",
    "from langchain.chains import RetrievalQA\n",
    "from langchain.llms import HuggingFacePipeline\n",
    "from transformers import pipeline, AutoTokenizer, AutoModelForSeq2SeqLM\n",
    "\n",
    "# Load a local Hugging Face model\n",
    "model_name = \"google/flan-t5-large\"\n",
    "tokenizer = AutoTokenizer.from_pretrained(model_name)\n",
    "model = AutoModelForSeq2SeqLM.from_pretrained(model_name)\n",
    "\n",
    "pipe = pipeline(\"text2text-generation\", model=model, tokenizer=tokenizer, max_length=512)\n",
    "llm = HuggingFacePipeline(pipeline=pipe)\n",
    "\n",
    "# Build the QA chain\n",
    "qa_chain = RetrievalQA.from_chain_type(llm=llm, retriever=retriever, return_source_documents=True)"
   ]
  },
  {
   "cell_type": "markdown",
   "id": "9fad213d-913c-425d-9ac4-f2dbf731fad0",
   "metadata": {},
   "source": [
    "### 💬 Step 5: Ask Questions"
   ]
  },
  {
   "cell_type": "code",
   "execution_count": 17,
   "id": "6a5c640f-191b-4c6b-b70a-a9ad00c99ac5",
   "metadata": {},
   "outputs": [
    {
     "name": "stderr",
     "output_type": "stream",
     "text": [
      "C:\\Users\\nms31\\AppData\\Local\\Temp\\ipykernel_20588\\111526805.py:2: LangChainDeprecationWarning: The method `Chain.__call__` was deprecated in langchain 0.1.0 and will be removed in 1.0. Use :meth:`~invoke` instead.\n",
      "  result = qa_chain(query)\n",
      "Token indices sequence length is longer than the specified maximum sequence length for this model (616 > 512). Running this sequence through the model will result in indexing errors\n"
     ]
    },
    {
     "name": "stdout",
     "output_type": "stream",
     "text": [
      "Answer: To test assumptions (hypotheses) using statistical methods. - Types: - Z-Test - T-Test - Chi-Square Test - ANOVA Errors in Hypothesis Testing: - Type I Error: Rejecting a true null hypothesis (false positive). - Type II Error: Failing to reject a false null hypothesis (false negative). Used in regression for parameter significance and in classification for threshold optimization. Methods and Python Code for Hypothesis Testing 1. Z-Test p-value in a t-Test from scipy.stats import t# Example: T-test t_score = 2.1 # Replace with your calculated t_score degrees_of_freedom = 10 # Replace with your sample's degrees of freedom p_value = 2 * (1 - t.cdf(abs(t_score), df=degrees_of_freedom)) # Two-tailed test print(\"P-value for T-test:\", p_value) The degrees of freedom (df) for a sample are calculated using the formula: df=n1 Where n is the sample size (the total number of observations in the sample).\n"
     ]
    }
   ],
   "source": [
    "query = \"What is the document about?\"\n",
    "result = qa_chain(query)\n",
    "\n",
    "print(\"Answer:\", result[\"result\"])"
   ]
  },
  {
   "cell_type": "code",
   "execution_count": null,
   "id": "062b3ec1-5592-4f5f-aa3d-c2e9102b663f",
   "metadata": {},
   "outputs": [],
   "source": []
  }
 ],
 "metadata": {
  "kernelspec": {
   "display_name": "Python 3 (ipykernel)",
   "language": "python",
   "name": "python3"
  },
  "language_info": {
   "codemirror_mode": {
    "name": "ipython",
    "version": 3
   },
   "file_extension": ".py",
   "mimetype": "text/x-python",
   "name": "python",
   "nbconvert_exporter": "python",
   "pygments_lexer": "ipython3",
   "version": "3.12.4"
  }
 },
 "nbformat": 4,
 "nbformat_minor": 5
}
